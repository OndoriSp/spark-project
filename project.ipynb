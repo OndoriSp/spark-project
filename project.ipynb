{
 "cells": [
  {
   "cell_type": "code",
   "execution_count": 1,
   "id": "f2f03359",
   "metadata": {},
   "outputs": [],
   "source": [
    "from pyspark import SparkConf\n",
    "from pyspark.sql import SparkSession, Window\n",
    "import pyspark.sql.types as t\n",
    "import pyspark.sql.functions as f"
   ]
  },
  {
   "cell_type": "code",
   "execution_count": 2,
   "id": "e856839e",
   "metadata": {},
   "outputs": [],
   "source": [
    "spark = (SparkSession.builder.master(\"local\").appName(\"practice2 app\").config(conf=SparkConf()).getOrCreate())"
   ]
  },
  {
   "cell_type": "code",
   "execution_count": 3,
   "id": "0e136e1f",
   "metadata": {},
   "outputs": [
    {
     "data": {
      "text/html": [
       "\n",
       "            <div>\n",
       "                <p><b>SparkSession - in-memory</b></p>\n",
       "                \n",
       "        <div>\n",
       "            <p><b>SparkContext</b></p>\n",
       "\n",
       "            <p><a href=\"http://DESKTOP-R034T1R:4040\">Spark UI</a></p>\n",
       "\n",
       "            <dl>\n",
       "              <dt>Version</dt>\n",
       "                <dd><code>v3.2.1</code></dd>\n",
       "              <dt>Master</dt>\n",
       "                <dd><code>local</code></dd>\n",
       "              <dt>AppName</dt>\n",
       "                <dd><code>practice2 app</code></dd>\n",
       "            </dl>\n",
       "        </div>\n",
       "        \n",
       "            </div>\n",
       "        "
      ],
      "text/plain": [
       "<pyspark.sql.session.SparkSession at 0x29669d519a0>"
      ]
     },
     "execution_count": 3,
     "metadata": {},
     "output_type": "execute_result"
    }
   ],
   "source": [
    "spark"
   ]
  },
  {
   "cell_type": "code",
   "execution_count": 4,
   "id": "0f6ce7b2",
   "metadata": {},
   "outputs": [],
   "source": [
    "# opening business dataset"
   ]
  },
  {
   "cell_type": "code",
   "execution_count": 5,
   "id": "fe765e88",
   "metadata": {},
   "outputs": [
    {
     "name": "stdout",
     "output_type": "stream",
     "text": [
      "+--------------------+--------------------+--------------------+--------------------+--------------+--------------------+-------+-------------+--------------+--------------------+-----------+------------+-----+-----+\n",
      "|             address|          attributes|         business_id|          categories|          city|               hours|is_open|     latitude|     longitude|                name|postal_code|review_count|stars|state|\n",
      "+--------------------+--------------------+--------------------+--------------------+--------------+--------------------+-------+-------------+--------------+--------------------+-----------+------------+-----+-----+\n",
      "|1616 Chapala St, ...|{null, null, null...|Pns2l4eNsfO8kk83d...|Doctors, Traditio...| Santa Barbara|                null|      0|   34.4266787|  -119.7111968|Abby Rappoport, L...|      93101|           7|  5.0|   CA|\n",
      "|87 Grasso Plaza S...|{null, null, null...|mpf3x-BjTdTEA3yCZ...|Shipping Centers,...|        Affton|{8:0-18:30, 0:0-0...|      1|    38.551126|    -90.335695|       The UPS Store|      63123|          15|  3.0|   MO|\n",
      "|5255 E Broadway Blvd|{null, null, null...|tUFrWirKiKi_TAnsV...|Department Stores...|        Tucson|{8:0-23:0, 8:0-22...|      0|    32.223236|   -110.880452|              Target|      85711|          22|  3.5|   AZ|\n",
      "|         935 Race St|{null, null, u'no...|MTSW4McQd7CbVtyjq...|Restaurants, Food...|  Philadelphia|{7:0-21:0, 7:0-20...|      1|   39.9555052|   -75.1555641|  St Honore Pastries|      19107|          80|  4.0|   PA|\n",
      "|       101 Walnut St|{null, null, null...|mWMc6_wTdE0EUBKIG...|Brewpubs, Breweri...|    Green Lane|{12:0-22:0, null,...|      1|   40.3381827|   -75.4716585|Perkiomen Valley ...|      18054|          13|  4.5|   PA|\n",
      "|       615 S Main St|{null, null, u'no...|CF33F8-E6oudUQ46H...|Burgers, Fast Foo...|  Ashland City|{9:0-0:0, 0:0-0:0...|      1|    36.269593|    -87.058943|      Sonic Drive-In|      37015|           6|  2.0|   TN|\n",
      "|8522 Eager Road, ...|{null, null, null...|n_0UpQx1hsNbnPUSl...|Sporting Goods, F...|     Brentwood|{10:0-18:0, 0:0-0...|      1|    38.627695|    -90.340465|     Famous Footwear|      63144|          13|  2.5|   MO|\n",
      "|  400 Pasadena Ave S|                null|qkRM_2X51Yqxk3btl...|Synagogues, Relig...|St. Petersburg|{9:0-17:0, 9:0-17...|      1|     27.76659|    -82.732983|      Temple Beth-El|      33707|           5|  3.5|   FL|\n",
      "|   8025 Mackenzie Rd|{null, null, u'fu...|k0hlBqXX-Bt0vf1op...|Pubs, Restaurants...|        Affton|                null|      0|   38.5651648|   -90.3210868|Tsevi's Pub And G...|      63123|          19|  3.0|   MO|\n",
      "| 2312 Dickerson Pike|{null, null, u'no...|bBDDEgkFA1Otx9Lfe...|Ice Cream & Froze...|     Nashville|{6:0-16:0, 0:0-0:...|      1|   36.2081024|   -86.7681696|      Sonic Drive-In|      37207|          10|  1.5|   TN|\n",
      "|21705 Village Lak...|{null, null, null...|UJsufbvfyfONHeWdv...|Department Stores...| Land O' Lakes|{9:30-21:30, 9:30...|      1|28.1904587953|-82.4573802199|           Marshalls|      34639|           6|  3.5|   FL|\n",
      "|                    |{null, null, 'non...|eEOYSgkmpB90uNA7l...|Vietnamese, Food,...|     Tampa Bay|{11:0-14:0, 11:0-...|      1|   27.9552692|   -82.4563199|Vietnamese Food T...|      33602|          10|  4.0|   FL|\n",
      "|        8901 US 31 S|{null, null, 'non...|il_Ro8jwPlHresjw9...|American (Traditi...|  Indianapolis|{6:0-22:0, 6:0-22...|      1|39.6371332838| -86.127217412|             Denny's|      46227|          28|  2.5|   IN|\n",
      "|   15 N Missouri Ave|{null, null, null...|jaxMSoInw8Poo3XeM...|General Dentistry...|    Clearwater|{null, 7:30-15:30...|      1|    27.966235|    -82.787412|        Adams Dental|      33755|          10|  5.0|   FL|\n",
      "|       2575 E Bay Dr|{null, null, u'no...|0bPLkL0QhhPO5kt1_...|Food, Delis, Ital...|         Largo|{10:0-20:0, 10:0-...|      0|   27.9161159|   -82.7604608|Zio's Italian Market|      33771|         100|  4.5|   FL|\n",
      "|         205 Race St|{null, null, 'ful...|MUTTqe8uqyMdBl186...|Sushi Bars, Resta...|  Philadelphia|{13:30-23:0, null...|      1|    39.953949|   -75.1432262|            Tuna Bar|      19106|         245|  4.0|   PA|\n",
      "|     625 N Stone Ave|{null, null, null...|rBmpy_Y1UbBx8ggHl...|Automotive, Auto ...|        Tucson|{8:0-17:0, 0:0-0:...|      1|   32.2298719|  -110.9723419|Arizona Truck Out...|      85705|          10|  4.5|   AZ|\n",
      "|        712 Adams St|{null, null, null...|M0XSSHqrASOnhgbWD...|Vape Shops, Tobac...|   New Orleans|{10:0-19:0, 10:0-...|      1|29.9414679565| -90.129952757|      Herb Import Co|      70118|           5|  4.0|   LA|\n",
      "|     1241 Airline Dr|                null|8wGISYjYkE2tSqn3c...|Automotive, Car R...|        Kenner|{8:0-17:0, 8:0-17...|      1|    29.981183|   -90.2540123|    Nifty Car Rental|      70062|          14|  3.5|   LA|\n",
      "|       1224 South St|{null, null, u'no...|ROeacJQwBeh05Rqg7...| Korean, Restaurants|  Philadelphia|{11:30-20:30, 11:...|      1|    39.943223|    -75.162568|                 BAP|      19147|         205|  4.5|   PA|\n",
      "+--------------------+--------------------+--------------------+--------------------+--------------+--------------------+-------+-------------+--------------+--------------------+-----------+------------+-----+-----+\n",
      "only showing top 20 rows\n",
      "\n"
     ]
    }
   ],
   "source": [
    "path = 'yelp_academic_dataset_business.json'\n",
    "\n",
    "default_business_json = spark.read.json(path)\n",
    "default_business_json.show()"
   ]
  },
  {
   "cell_type": "code",
   "execution_count": 6,
   "id": "de268cc7",
   "metadata": {},
   "outputs": [
    {
     "name": "stdout",
     "output_type": "stream",
     "text": [
      "root\n",
      " |-- address: string (nullable = true)\n",
      " |-- attributes: struct (nullable = true)\n",
      " |    |-- AcceptsInsurance: string (nullable = true)\n",
      " |    |-- AgesAllowed: string (nullable = true)\n",
      " |    |-- Alcohol: string (nullable = true)\n",
      " |    |-- Ambience: string (nullable = true)\n",
      " |    |-- BYOB: string (nullable = true)\n",
      " |    |-- BYOBCorkage: string (nullable = true)\n",
      " |    |-- BestNights: string (nullable = true)\n",
      " |    |-- BikeParking: string (nullable = true)\n",
      " |    |-- BusinessAcceptsBitcoin: string (nullable = true)\n",
      " |    |-- BusinessAcceptsCreditCards: string (nullable = true)\n",
      " |    |-- BusinessParking: string (nullable = true)\n",
      " |    |-- ByAppointmentOnly: string (nullable = true)\n",
      " |    |-- Caters: string (nullable = true)\n",
      " |    |-- CoatCheck: string (nullable = true)\n",
      " |    |-- Corkage: string (nullable = true)\n",
      " |    |-- DietaryRestrictions: string (nullable = true)\n",
      " |    |-- DogsAllowed: string (nullable = true)\n",
      " |    |-- DriveThru: string (nullable = true)\n",
      " |    |-- GoodForDancing: string (nullable = true)\n",
      " |    |-- GoodForKids: string (nullable = true)\n",
      " |    |-- GoodForMeal: string (nullable = true)\n",
      " |    |-- HairSpecializesIn: string (nullable = true)\n",
      " |    |-- HappyHour: string (nullable = true)\n",
      " |    |-- HasTV: string (nullable = true)\n",
      " |    |-- Music: string (nullable = true)\n",
      " |    |-- NoiseLevel: string (nullable = true)\n",
      " |    |-- Open24Hours: string (nullable = true)\n",
      " |    |-- OutdoorSeating: string (nullable = true)\n",
      " |    |-- RestaurantsAttire: string (nullable = true)\n",
      " |    |-- RestaurantsCounterService: string (nullable = true)\n",
      " |    |-- RestaurantsDelivery: string (nullable = true)\n",
      " |    |-- RestaurantsGoodForGroups: string (nullable = true)\n",
      " |    |-- RestaurantsPriceRange2: string (nullable = true)\n",
      " |    |-- RestaurantsReservations: string (nullable = true)\n",
      " |    |-- RestaurantsTableService: string (nullable = true)\n",
      " |    |-- RestaurantsTakeOut: string (nullable = true)\n",
      " |    |-- Smoking: string (nullable = true)\n",
      " |    |-- WheelchairAccessible: string (nullable = true)\n",
      " |    |-- WiFi: string (nullable = true)\n",
      " |-- business_id: string (nullable = true)\n",
      " |-- categories: string (nullable = true)\n",
      " |-- city: string (nullable = true)\n",
      " |-- hours: struct (nullable = true)\n",
      " |    |-- Friday: string (nullable = true)\n",
      " |    |-- Monday: string (nullable = true)\n",
      " |    |-- Saturday: string (nullable = true)\n",
      " |    |-- Sunday: string (nullable = true)\n",
      " |    |-- Thursday: string (nullable = true)\n",
      " |    |-- Tuesday: string (nullable = true)\n",
      " |    |-- Wednesday: string (nullable = true)\n",
      " |-- is_open: long (nullable = true)\n",
      " |-- latitude: double (nullable = true)\n",
      " |-- longitude: double (nullable = true)\n",
      " |-- name: string (nullable = true)\n",
      " |-- postal_code: string (nullable = true)\n",
      " |-- review_count: long (nullable = true)\n",
      " |-- stars: double (nullable = true)\n",
      " |-- state: string (nullable = true)\n",
      "\n"
     ]
    }
   ],
   "source": [
    "default_business_json.printSchema()"
   ]
  },
  {
   "cell_type": "code",
   "execution_count": 7,
   "id": "8654a6df",
   "metadata": {},
   "outputs": [
    {
     "data": {
      "text/plain": [
       "['address',\n",
       " 'attributes',\n",
       " 'business_id',\n",
       " 'categories',\n",
       " 'city',\n",
       " 'hours',\n",
       " 'is_open',\n",
       " 'latitude',\n",
       " 'longitude',\n",
       " 'name',\n",
       " 'postal_code',\n",
       " 'review_count',\n",
       " 'stars',\n",
       " 'state']"
      ]
     },
     "execution_count": 7,
     "metadata": {},
     "output_type": "execute_result"
    }
   ],
   "source": [
    "default_business_json.columns"
   ]
  },
  {
   "cell_type": "code",
   "execution_count": 76,
   "id": "77d2be76",
   "metadata": {},
   "outputs": [
    {
     "data": {
      "text/plain": [
       "[('rows_num', 150346), ('cols_num', 14)]"
      ]
     },
     "execution_count": 76,
     "metadata": {},
     "output_type": "execute_result"
    }
   ],
   "source": [
    "# Кількість рядків та колонок\n",
    "data = [('rows_num', default_business_json.count()), ('cols_num', len(default_business_json.columns))]\n",
    "data"
   ]
  },
  {
   "cell_type": "code",
   "execution_count": 8,
   "id": "468164da",
   "metadata": {},
   "outputs": [],
   "source": [
    "# transformating default business df"
   ]
  },
  {
   "cell_type": "code",
   "execution_count": 9,
   "id": "7dce1f50",
   "metadata": {},
   "outputs": [],
   "source": [
    "business_df = default_business_json"
   ]
  },
  {
   "cell_type": "code",
   "execution_count": 10,
   "id": "579ff340",
   "metadata": {},
   "outputs": [],
   "source": [
    "attributes_cols = [field.name for field in business_df.schema[\"attributes\"].dataType.fields]\n",
    "for col_name in attributes_cols:\n",
    "    business_df = business_df.withColumn('attribute_' + col_name, f.col('attributes').getItem(col_name))"
   ]
  },
  {
   "cell_type": "code",
   "execution_count": 11,
   "id": "0baecae0",
   "metadata": {},
   "outputs": [],
   "source": [
    "hours_cols = [field.name for field in business_df.schema['hours'].dataType.fields]\n",
    "for col_name in hours_cols:\n",
    "    business_df = business_df.withColumn('hours_' + col_name, f.col('hours').getItem(col_name))"
   ]
  },
  {
   "cell_type": "code",
   "execution_count": 12,
   "id": "2572dbd9",
   "metadata": {},
   "outputs": [],
   "source": [
    "business_df = business_df.drop('attributes', 'hours')"
   ]
  },
  {
   "cell_type": "code",
   "execution_count": 13,
   "id": "7c4edfdf",
   "metadata": {},
   "outputs": [],
   "source": [
    "# changing column names to xx_yy format (from xxYy)\n",
    "import re\n",
    "column_names = business_df.columns\n",
    "new_column_names = [re.sub(r'([a-z])([A-Z])', r'\\1_\\2', col_name) for col_name in column_names]\n",
    "\n",
    "# Rename the columns with the new names\n",
    "for old_name, new_name in zip(column_names, new_column_names):\n",
    "    business_df = business_df.withColumnRenamed(old_name, new_name.lower())"
   ]
  },
  {
   "cell_type": "code",
   "execution_count": 14,
   "id": "3b94ad8a",
   "metadata": {},
   "outputs": [
    {
     "name": "stdout",
     "output_type": "stream",
     "text": [
      "+--------------------+--------------------+--------------------+--------------+-------+-------------+--------------+--------------------+-----------+------------+-----+-----+---------------------------+----------------------+-----------------+--------------------+--------------+---------------------+---------------------+----------------------+----------------------------------+---------------------------------------+--------------------------+-----------------------------+----------------+--------------------+-----------------+------------------------------+----------------------+--------------------+--------------------------+-----------------------+-----------------------+-----------------------------+--------------------+----------------+---------------+---------------------+---------------------+-------------------------+----------------------------+-------------------------------------+------------------------------+-------------------------------------+----------------------------------+----------------------------------+-----------------------------------+------------------------------+-----------------+-------------------------------+---------------+------------+------------+--------------+------------+--------------+-------------+---------------+\n",
      "|             address|         business_id|          categories|          city|is_open|     latitude|     longitude|                name|postal_code|review_count|stars|state|attribute_accepts_insurance|attribute_ages_allowed|attribute_alcohol|  attribute_ambience|attribute_byob|attribute_byobcorkage|attribute_best_nights|attribute_bike_parking|attribute_business_accepts_bitcoin|attribute_business_accepts_credit_cards|attribute_business_parking|attribute_by_appointment_only|attribute_caters|attribute_coat_check|attribute_corkage|attribute_dietary_restrictions|attribute_dogs_allowed|attribute_drive_thru|attribute_good_for_dancing|attribute_good_for_kids|attribute_good_for_meal|attribute_hair_specializes_in|attribute_happy_hour|attribute_has_tv|attribute_music|attribute_noise_level|attribute_open24hours|attribute_outdoor_seating|attribute_restaurants_attire|attribute_restaurants_counter_service|attribute_restaurants_delivery|attribute_restaurants_good_for_groups|attribute_restaurants_price_range2|attribute_restaurants_reservations|attribute_restaurants_table_service|attribute_restaurants_take_out|attribute_smoking|attribute_wheelchair_accessible|attribute_wi_fi|hours_friday|hours_monday|hours_saturday|hours_sunday|hours_thursday|hours_tuesday|hours_wednesday|\n",
      "+--------------------+--------------------+--------------------+--------------+-------+-------------+--------------+--------------------+-----------+------------+-----+-----+---------------------------+----------------------+-----------------+--------------------+--------------+---------------------+---------------------+----------------------+----------------------------------+---------------------------------------+--------------------------+-----------------------------+----------------+--------------------+-----------------+------------------------------+----------------------+--------------------+--------------------------+-----------------------+-----------------------+-----------------------------+--------------------+----------------+---------------+---------------------+---------------------+-------------------------+----------------------------+-------------------------------------+------------------------------+-------------------------------------+----------------------------------+----------------------------------+-----------------------------------+------------------------------+-----------------+-------------------------------+---------------+------------+------------+--------------+------------+--------------+-------------+---------------+\n",
      "|1616 Chapala St, ...|Pns2l4eNsfO8kk83d...|Doctors, Traditio...| Santa Barbara|      0|   34.4266787|  -119.7111968|Abby Rappoport, L...|      93101|           7|  5.0|   CA|                       null|                  null|             null|                null|          null|                 null|                 null|                  null|                              null|                                   null|                      null|                         True|            null|                null|             null|                          null|                  null|                null|                      null|                   null|                   null|                         null|                null|            null|           null|                 null|                 null|                     null|                        null|                                 null|                          null|                                 null|                              null|                              null|                               null|                          null|             null|                           null|           null|        null|        null|          null|        null|          null|         null|           null|\n",
      "|87 Grasso Plaza S...|mpf3x-BjTdTEA3yCZ...|Shipping Centers,...|        Affton|      1|    38.551126|    -90.335695|       The UPS Store|      63123|          15|  3.0|   MO|                       null|                  null|             null|                null|          null|                 null|                 null|                  null|                              null|                                   True|                      null|                         null|            null|                null|             null|                          null|                  null|                null|                      null|                   null|                   null|                         null|                null|            null|           null|                 null|                 null|                     null|                        null|                                 null|                          null|                                 null|                              null|                              null|                               null|                          null|             null|                           null|           null|   8:0-18:30|     0:0-0:0|      8:0-14:0|        null|     8:0-18:30|    8:0-18:30|      8:0-18:30|\n",
      "|5255 E Broadway Blvd|tUFrWirKiKi_TAnsV...|Department Stores...|        Tucson|      0|    32.223236|   -110.880452|              Target|      85711|          22|  3.5|   AZ|                       null|                  null|             null|                null|          null|                 null|                 null|                  True|                              null|                                   True|      {'garage': False,...|                        False|           False|               False|             null|                          null|                 False|                null|                      null|                   null|                   null|                         null|               False|           False|           null|                 null|                 null|                    False|                        null|                                 null|                         False|                                 null|                                 2|                             False|                               null|                         False|             null|                           True|          u'no'|    8:0-23:0|    8:0-22:0|      8:0-23:0|    8:0-22:0|      8:0-22:0|     8:0-22:0|       8:0-22:0|\n",
      "|         935 Race St|MTSW4McQd7CbVtyjq...|Restaurants, Food...|  Philadelphia|      1|   39.9555052|   -75.1555641|  St Honore Pastries|      19107|          80|  4.0|   PA|                       null|                  null|          u'none'|                null|          null|                 null|                 null|                  True|                              null|                                  False|      {'garage': False,...|                        False|            True|                null|             null|                          null|                  null|                null|                      null|                   null|                   null|                         null|                null|            null|           null|                 null|                 null|                    False|                        null|                                 null|                         False|                                 null|                                 1|                              null|                               null|                          True|             null|                           null|        u'free'|    7:0-21:0|    7:0-20:0|      7:0-21:0|    7:0-21:0|      7:0-20:0|     7:0-20:0|       7:0-20:0|\n",
      "|       101 Walnut St|mWMc6_wTdE0EUBKIG...|Brewpubs, Breweri...|    Green Lane|      1|   40.3381827|   -75.4716585|Perkiomen Valley ...|      18054|          13|  4.5|   PA|                       null|                  null|             null|                null|          null|                 null|                 null|                  True|                              null|                                   True|      {'garage': None, ...|                         null|           False|                null|             null|                          null|                  null|                null|                      null|                   True|                   null|                         null|                null|            null|           null|                 null|                 null|                     null|                        null|                                 null|                          null|                                 null|                              null|                              null|                               null|                          True|             null|                           True|           null|   12:0-22:0|        null|     12:0-22:0|   12:0-18:0|     16:0-22:0|         null|      14:0-22:0|\n",
      "|       615 S Main St|CF33F8-E6oudUQ46H...|Burgers, Fast Foo...|  Ashland City|      1|    36.269593|    -87.058943|      Sonic Drive-In|      37015|           6|  2.0|   TN|                       null|                  null|          u'none'|                None|          null|                 null|                 null|                 False|                              null|                                   True|                      None|                        False|           False|               False|             null|                          null|                 False|                True|                      null|                   True|                   null|                         null|               False|            True|           null|                 null|                 null|                     True|                   u'casual'|                                 null|                          True|                                 True|                                 1|                             False|                              False|                          True|             null|                           True|          u'no'|     9:0-0:0|     0:0-0:0|      9:0-22:0|    8:0-22:0|      6:0-22:0|     6:0-22:0|       6:0-22:0|\n",
      "|8522 Eager Road, ...|n_0UpQx1hsNbnPUSl...|Sporting Goods, F...|     Brentwood|      1|    38.627695|    -90.340465|     Famous Footwear|      63144|          13|  2.5|   MO|                       null|                  null|             null|                null|          null|                 null|                 null|                  True|                              null|                                   True|      {'garage': False,...|                         null|            null|                null|             null|                          null|                  null|                null|                      null|                   null|                   null|                         null|                null|            null|           null|                 null|                 null|                     null|                        null|                                 null|                          null|                                 null|                                 2|                              null|                               null|                          null|             null|                           null|           null|   10:0-18:0|     0:0-0:0|     10:0-18:0|   12:0-18:0|     10:0-18:0|    10:0-18:0|      10:0-18:0|\n",
      "|  400 Pasadena Ave S|qkRM_2X51Yqxk3btl...|Synagogues, Relig...|St. Petersburg|      1|     27.76659|    -82.732983|      Temple Beth-El|      33707|           5|  3.5|   FL|                       null|                  null|             null|                null|          null|                 null|                 null|                  null|                              null|                                   null|                      null|                         null|            null|                null|             null|                          null|                  null|                null|                      null|                   null|                   null|                         null|                null|            null|           null|                 null|                 null|                     null|                        null|                                 null|                          null|                                 null|                              null|                              null|                               null|                          null|             null|                           null|           null|    9:0-17:0|    9:0-17:0|          null|        null|      9:0-17:0|     9:0-17:0|       9:0-17:0|\n",
      "|   8025 Mackenzie Rd|k0hlBqXX-Bt0vf1op...|Pubs, Restaurants...|        Affton|      0|   38.5651648|   -90.3210868|Tsevi's Pub And G...|      63123|          19|  3.0|   MO|                       null|                  null|      u'full_bar'|{'romantic': Fals...|          null|                 null|                 null|                  null|                              null|                                   True|      {'garage': False,...|                         null|            True|                null|             null|                          null|                  null|                null|                      null|                   True|                   null|                         null|                null|            True|           null|           u'average'|                 null|                     True|                   u'casual'|                                 null|                         False|                                 True|                                 1|                             False|                               null|                          True|             null|                           null|        u'free'|        null|        null|          null|        null|          null|         null|           null|\n",
      "| 2312 Dickerson Pike|bBDDEgkFA1Otx9Lfe...|Ice Cream & Froze...|     Nashville|      1|   36.2081024|   -86.7681696|      Sonic Drive-In|      37207|          10|  1.5|   TN|                       null|                  null|          u'none'|                null|          null|                 null|                 null|                  null|                              null|                                   True|      {'garage': False,...|                        False|           False|               False|             null|                          null|                 False|                True|                      null|                   True|                   null|                         null|               False|            True|           null|                 null|                 null|                     True|                    'casual'|                                 null|                          True|                                False|                                 1|                             False|                              False|                          True|             null|                           True|          u'no'|    6:0-16:0|     0:0-0:0|      6:0-17:0|    6:0-21:0|      6:0-16:0|     6:0-21:0|       6:0-21:0|\n",
      "|21705 Village Lak...|UJsufbvfyfONHeWdv...|Department Stores...| Land O' Lakes|      1|28.1904587953|-82.4573802199|           Marshalls|      34639|           6|  3.5|   FL|                       null|                  null|             null|                null|          null|                 null|                 null|                  True|                              null|                                   True|      {'garage': False,...|                         null|            null|                null|             null|                          null|                  null|                null|                      null|                   null|                   null|                         null|                null|            null|           null|                 null|                 null|                     null|                        null|                                 null|                          null|                                 null|                                 2|                              null|                               null|                          null|             null|                           null|           null|  9:30-21:30|  9:30-21:30|    9:30-21:30|   10:0-20:0|    9:30-21:30|   9:30-21:30|     9:30-21:30|\n",
      "|                    |eEOYSgkmpB90uNA7l...|Vietnamese, Food,...|     Tampa Bay|      1|   27.9552692|   -82.4563199|Vietnamese Food T...|      33602|          10|  4.0|   FL|                       null|                  null|           'none'|{'touristy': Fals...|          null|                 null|                 null|                  null|                              null|                                   null|      {'garage': False,...|                         null|            null|                null|             null|                          null|                  null|                null|                      null|                   null|   {'dessert': False...|                         null|                null|            null|           null|                 null|                 null|                     None|                        null|                                 null|                          null|                                 null|                              null|                             False|                               null|                          null|             null|                           null|           null|   11:0-14:0|   11:0-14:0|      5:0-10:0|   15:0-18:0|     11:0-14:0|    11:0-14:0|      11:0-14:0|\n",
      "|        8901 US 31 S|il_Ro8jwPlHresjw9...|American (Traditi...|  Indianapolis|      1|39.6371332838| -86.127217412|             Denny's|      46227|          28|  2.5|   IN|                       null|                  null|           'none'|{'touristy': None...|          null|                 null|                 null|                 False|                              null|                                   True|      {'garage': None, ...|                         null|            null|                null|             null|                          null|                  null|                null|                      null|                   True|   {'dessert': False...|                         null|                null|            True|           null|                 null|                 null|                    False|                    'casual'|                                 null|                          True|                                 True|                                 1|                             False|                               null|                          True|             null|                           null|          u'no'|    6:0-22:0|    6:0-22:0|      6:0-22:0|    6:0-22:0|      6:0-22:0|     6:0-22:0|       6:0-22:0|\n",
      "|   15 N Missouri Ave|jaxMSoInw8Poo3XeM...|General Dentistry...|    Clearwater|      1|    27.966235|    -82.787412|        Adams Dental|      33755|          10|  5.0|   FL|                       null|                  null|             null|                null|          null|                 null|                 null|                  null|                              null|                                   null|                      null|                         True|            null|                null|             null|                          null|                  null|                null|                      null|                   null|                   null|                         null|                null|            null|           null|                 null|                 null|                     null|                        null|                                 null|                          null|                                 null|                              null|                              null|                               null|                          null|             null|                           null|           null|        null|  7:30-15:30|          null|        null|    7:30-15:30|   7:30-15:30|     7:30-15:30|\n",
      "|       2575 E Bay Dr|0bPLkL0QhhPO5kt1_...|Food, Delis, Ital...|         Largo|      0|   27.9161159|   -82.7604608|Zio's Italian Market|      33771|         100|  4.5|   FL|                       null|                  null|          u'none'|{'romantic': Fals...|          null|                 null|                 null|                  True|                             False|                                   True|      {'garage': False,...|                         null|            True|                null|             null|                          null|                  null|                null|                      null|                   True|   {'dessert': False...|                         null|                null|            True|           null|           u'average'|                 null|                    False|                   u'casual'|                                 null|                          True|                                False|                                 1|                             False|                              False|                          True|             null|                           True|          u'no'|   10:0-20:0|   10:0-18:0|     10:0-20:0|        null|     10:0-20:0|    10:0-20:0|      10:0-20:0|\n",
      "|         205 Race St|MUTTqe8uqyMdBl186...|Sushi Bars, Resta...|  Philadelphia|      1|    39.953949|   -75.1432262|            Tuna Bar|      19106|         245|  4.0|   PA|                       null|                  null|       'full_bar'|{'touristy': Fals...|          null|                 null|                 null|                  null|                              null|                                   True|      {u'valet': False,...|                         null|            null|                null|             null|                          null|                 False|                null|                      null|                  False|   {'dessert': True,...|                         null|                True|           False|           null|           u'average'|                 null|                     True|                    'casual'|                                 null|                          True|                                 True|                                 2|                              True|                               True|                          True|             null|                           True|         'free'|  13:30-23:0|        null|    13:30-23:0|  13:30-22:0|    13:30-22:0|   13:30-22:0|     13:30-22:0|\n",
      "|     625 N Stone Ave|rBmpy_Y1UbBx8ggHl...|Automotive, Auto ...|        Tucson|      1|   32.2298719|  -110.9723419|Arizona Truck Out...|      85705|          10|  4.5|   AZ|                       null|                  null|             null|                null|          null|                 null|                 null|                  null|                              null|                                   True|                      null|                        False|            null|                null|             null|                          null|                  null|               False|                      null|                   null|                   null|                         null|                null|            null|           null|                 null|                 null|                     null|                        null|                                 null|                          null|                                 null|                              null|                              null|                               null|                          null|             null|                           null|        u'free'|    8:0-17:0|     0:0-0:0|      8:0-14:0|     0:0-0:0|      8:0-17:0|     8:0-17:0|       8:0-17:0|\n",
      "|        712 Adams St|M0XSSHqrASOnhgbWD...|Vape Shops, Tobac...|   New Orleans|      1|29.9414679565| -90.129952757|      Herb Import Co|      70118|           5|  4.0|   LA|                       null|                  null|             null|                null|          null|                 null|                 null|                  True|                              null|                                   True|      {'garage': False,...|                         null|            null|                null|             null|                          null|                  null|                null|                      null|                   null|                   null|                         null|                null|            null|           null|                 null|                 null|                     null|                        null|                                 null|                          null|                                 null|                                 2|                              null|                               null|                          null|             null|                           null|           null|   10:0-19:0|   10:0-19:0|     10:0-19:0|   10:0-19:0|     10:0-19:0|    10:0-19:0|      10:0-19:0|\n",
      "|     1241 Airline Dr|8wGISYjYkE2tSqn3c...|Automotive, Car R...|        Kenner|      1|    29.981183|   -90.2540123|    Nifty Car Rental|      70062|          14|  3.5|   LA|                       null|                  null|             null|                null|          null|                 null|                 null|                  null|                              null|                                   null|                      null|                         null|            null|                null|             null|                          null|                  null|                null|                      null|                   null|                   null|                         null|                null|            null|           null|                 null|                 null|                     null|                        null|                                 null|                          null|                                 null|                              null|                              null|                               null|                          null|             null|                           null|           null|    8:0-17:0|    8:0-17:0|      9:0-15:0|    9:0-12:0|      8:0-17:0|     8:0-17:0|       8:0-17:0|\n",
      "|       1224 South St|ROeacJQwBeh05Rqg7...| Korean, Restaurants|  Philadelphia|      1|    39.943223|    -75.162568|                 BAP|      19147|         205|  4.5|   PA|                       null|                  null|          u'none'|{'touristy': Fals...|          null|                 null|                 null|                  True|                              null|                                   True|      {'garage': False,...|                         null|            True|                null|             null|                          null|                  null|                null|                      null|                   True|   {'dessert': False...|                         null|                null|            True|           null|             u'quiet'|                 null|                     None|                   u'casual'|                                 null|                          None|                                False|                                 1|                             False|                               True|                          True|             null|                           null|          u'no'| 11:30-20:30| 11:30-20:30|   11:30-20:30|        null|   11:30-20:30|  11:30-20:30|    11:30-20:30|\n",
      "+--------------------+--------------------+--------------------+--------------+-------+-------------+--------------+--------------------+-----------+------------+-----+-----+---------------------------+----------------------+-----------------+--------------------+--------------+---------------------+---------------------+----------------------+----------------------------------+---------------------------------------+--------------------------+-----------------------------+----------------+--------------------+-----------------+------------------------------+----------------------+--------------------+--------------------------+-----------------------+-----------------------+-----------------------------+--------------------+----------------+---------------+---------------------+---------------------+-------------------------+----------------------------+-------------------------------------+------------------------------+-------------------------------------+----------------------------------+----------------------------------+-----------------------------------+------------------------------+-----------------+-------------------------------+---------------+------------+------------+--------------+------------+--------------+-------------+---------------+\n",
      "only showing top 20 rows\n",
      "\n"
     ]
    }
   ],
   "source": [
    "business_df.show()"
   ]
  },
  {
   "cell_type": "code",
   "execution_count": 15,
   "id": "2150f40b",
   "metadata": {},
   "outputs": [
    {
     "name": "stdout",
     "output_type": "stream",
     "text": [
      "root\n",
      " |-- address: string (nullable = true)\n",
      " |-- business_id: string (nullable = true)\n",
      " |-- categories: string (nullable = true)\n",
      " |-- city: string (nullable = true)\n",
      " |-- is_open: long (nullable = true)\n",
      " |-- latitude: double (nullable = true)\n",
      " |-- longitude: double (nullable = true)\n",
      " |-- name: string (nullable = true)\n",
      " |-- postal_code: string (nullable = true)\n",
      " |-- review_count: long (nullable = true)\n",
      " |-- stars: double (nullable = true)\n",
      " |-- state: string (nullable = true)\n",
      " |-- attribute_accepts_insurance: string (nullable = true)\n",
      " |-- attribute_ages_allowed: string (nullable = true)\n",
      " |-- attribute_alcohol: string (nullable = true)\n",
      " |-- attribute_ambience: string (nullable = true)\n",
      " |-- attribute_byob: string (nullable = true)\n",
      " |-- attribute_byobcorkage: string (nullable = true)\n",
      " |-- attribute_best_nights: string (nullable = true)\n",
      " |-- attribute_bike_parking: string (nullable = true)\n",
      " |-- attribute_business_accepts_bitcoin: string (nullable = true)\n",
      " |-- attribute_business_accepts_credit_cards: string (nullable = true)\n",
      " |-- attribute_business_parking: string (nullable = true)\n",
      " |-- attribute_by_appointment_only: string (nullable = true)\n",
      " |-- attribute_caters: string (nullable = true)\n",
      " |-- attribute_coat_check: string (nullable = true)\n",
      " |-- attribute_corkage: string (nullable = true)\n",
      " |-- attribute_dietary_restrictions: string (nullable = true)\n",
      " |-- attribute_dogs_allowed: string (nullable = true)\n",
      " |-- attribute_drive_thru: string (nullable = true)\n",
      " |-- attribute_good_for_dancing: string (nullable = true)\n",
      " |-- attribute_good_for_kids: string (nullable = true)\n",
      " |-- attribute_good_for_meal: string (nullable = true)\n",
      " |-- attribute_hair_specializes_in: string (nullable = true)\n",
      " |-- attribute_happy_hour: string (nullable = true)\n",
      " |-- attribute_has_tv: string (nullable = true)\n",
      " |-- attribute_music: string (nullable = true)\n",
      " |-- attribute_noise_level: string (nullable = true)\n",
      " |-- attribute_open24hours: string (nullable = true)\n",
      " |-- attribute_outdoor_seating: string (nullable = true)\n",
      " |-- attribute_restaurants_attire: string (nullable = true)\n",
      " |-- attribute_restaurants_counter_service: string (nullable = true)\n",
      " |-- attribute_restaurants_delivery: string (nullable = true)\n",
      " |-- attribute_restaurants_good_for_groups: string (nullable = true)\n",
      " |-- attribute_restaurants_price_range2: string (nullable = true)\n",
      " |-- attribute_restaurants_reservations: string (nullable = true)\n",
      " |-- attribute_restaurants_table_service: string (nullable = true)\n",
      " |-- attribute_restaurants_take_out: string (nullable = true)\n",
      " |-- attribute_smoking: string (nullable = true)\n",
      " |-- attribute_wheelchair_accessible: string (nullable = true)\n",
      " |-- attribute_wi_fi: string (nullable = true)\n",
      " |-- hours_friday: string (nullable = true)\n",
      " |-- hours_monday: string (nullable = true)\n",
      " |-- hours_saturday: string (nullable = true)\n",
      " |-- hours_sunday: string (nullable = true)\n",
      " |-- hours_thursday: string (nullable = true)\n",
      " |-- hours_tuesday: string (nullable = true)\n",
      " |-- hours_wednesday: string (nullable = true)\n",
      "\n"
     ]
    }
   ],
   "source": [
    "business_df.printSchema()"
   ]
  },
  {
   "cell_type": "code",
   "execution_count": 16,
   "id": "5dbf80b1",
   "metadata": {
    "scrolled": false
   },
   "outputs": [
    {
     "data": {
      "text/plain": [
       "['address',\n",
       " 'business_id',\n",
       " 'categories',\n",
       " 'city',\n",
       " 'is_open',\n",
       " 'latitude',\n",
       " 'longitude',\n",
       " 'name',\n",
       " 'postal_code',\n",
       " 'review_count',\n",
       " 'stars',\n",
       " 'state',\n",
       " 'attribute_accepts_insurance',\n",
       " 'attribute_ages_allowed',\n",
       " 'attribute_alcohol',\n",
       " 'attribute_ambience',\n",
       " 'attribute_byob',\n",
       " 'attribute_byobcorkage',\n",
       " 'attribute_best_nights',\n",
       " 'attribute_bike_parking',\n",
       " 'attribute_business_accepts_bitcoin',\n",
       " 'attribute_business_accepts_credit_cards',\n",
       " 'attribute_business_parking',\n",
       " 'attribute_by_appointment_only',\n",
       " 'attribute_caters',\n",
       " 'attribute_coat_check',\n",
       " 'attribute_corkage',\n",
       " 'attribute_dietary_restrictions',\n",
       " 'attribute_dogs_allowed',\n",
       " 'attribute_drive_thru',\n",
       " 'attribute_good_for_dancing',\n",
       " 'attribute_good_for_kids',\n",
       " 'attribute_good_for_meal',\n",
       " 'attribute_hair_specializes_in',\n",
       " 'attribute_happy_hour',\n",
       " 'attribute_has_tv',\n",
       " 'attribute_music',\n",
       " 'attribute_noise_level',\n",
       " 'attribute_open24hours',\n",
       " 'attribute_outdoor_seating',\n",
       " 'attribute_restaurants_attire',\n",
       " 'attribute_restaurants_counter_service',\n",
       " 'attribute_restaurants_delivery',\n",
       " 'attribute_restaurants_good_for_groups',\n",
       " 'attribute_restaurants_price_range2',\n",
       " 'attribute_restaurants_reservations',\n",
       " 'attribute_restaurants_table_service',\n",
       " 'attribute_restaurants_take_out',\n",
       " 'attribute_smoking',\n",
       " 'attribute_wheelchair_accessible',\n",
       " 'attribute_wi_fi',\n",
       " 'hours_friday',\n",
       " 'hours_monday',\n",
       " 'hours_saturday',\n",
       " 'hours_sunday',\n",
       " 'hours_thursday',\n",
       " 'hours_tuesday',\n",
       " 'hours_wednesday']"
      ]
     },
     "execution_count": 16,
     "metadata": {},
     "output_type": "execute_result"
    }
   ],
   "source": [
    "business_df.columns"
   ]
  },
  {
   "cell_type": "code",
   "execution_count": 78,
   "id": "7d41129c",
   "metadata": {},
   "outputs": [
    {
     "data": {
      "text/plain": [
       "[('rows_num', 150346), ('cols_num', 58)]"
      ]
     },
     "execution_count": 78,
     "metadata": {},
     "output_type": "execute_result"
    }
   ],
   "source": [
    "# Кількість рядків та колонок\n",
    "data = [('rows_num', business_df.count()), ('cols_num', len(business_df.columns))]\n",
    "data"
   ]
  },
  {
   "cell_type": "code",
   "execution_count": 79,
   "id": "51f281cd",
   "metadata": {},
   "outputs": [],
   "source": [
    "path = 'yelp_academic_dataset_review.json'\n",
    "\n",
    "review_df = spark.read.json(path)"
   ]
  },
  {
   "cell_type": "code",
   "execution_count": 80,
   "id": "d1e16d21",
   "metadata": {},
   "outputs": [
    {
     "name": "stdout",
     "output_type": "stream",
     "text": [
      "+--------------------+----+-------------------+-----+--------------------+-----+--------------------+------+--------------------+\n",
      "|         business_id|cool|               date|funny|           review_id|stars|                text|useful|             user_id|\n",
      "+--------------------+----+-------------------+-----+--------------------+-----+--------------------+------+--------------------+\n",
      "|XQfwVwDr-v0ZS3_Cb...|   0|2018-07-07 22:09:11|    0|KU_O5udG6zpxOg-Vc...|  3.0|If you decide to ...|     0|mh_-eMZ6K5RLWhZyI...|\n",
      "|7ATYjTIgM3jUlt4UM...|   1|2012-01-03 15:28:18|    0|BiTunyQ73aT9WBnpR...|  5.0|I've taken a lot ...|     1|OyoGAe7OKpv6SyGZT...|\n",
      "|YjUWPpI6HXG530lwP...|   0|2014-02-05 20:30:30|    0|saUsX_uimxRlCVr67...|  3.0|Family diner. Had...|     0|8g_iMtfSiwikVnbP2...|\n",
      "|kxX2SOes4o-D3ZQBk...|   1|2015-01-04 00:01:03|    0|AqPFMleE6RsU23_au...|  5.0|Wow!  Yummy, diff...|     1|_7bHUi9Uuf5__HHc_...|\n",
      "|e4Vwtrqf-wpJfwesg...|   1|2017-01-14 20:54:15|    0|Sx8TMOWLNuJBWer-0...|  4.0|Cute interior and...|     1|bcjbaE6dDog4jkNY9...|\n",
      "|04UD14gamNjLY0IDY...|   1|2015-09-23 23:10:31|    2|JrIxlS1TzJ-iCu79u...|  1.0|I am a long term ...|     1|eUta8W_HdHMXPzLBB...|\n",
      "|gmjsEdUsKpj9Xxu6p...|   0|2015-01-03 23:21:18|    2|6AxgBCNX_PNTOxmbR...|  5.0|Loved this tour! ...|     0|r3zeYsv1XFBRA4dJp...|\n",
      "|LHSTtnW3YHCeUkRDG...|   0|2015-08-07 02:29:16|    0|_ZeMknuYdlQcUqng_...|  5.0|Amazingly amazing...|     2|yfFzsLmaWF2d4Sr0U...|\n",
      "|B5XSoSG3SfvQGtKEG...|   0|2016-03-30 22:46:33|    1|ZKvDG2sBvHVdF5oBN...|  3.0|This easter inste...|     1|wSTuiTk-sKNdcFypr...|\n",
      "|gebiRewfieSdtt17P...|   0|2016-07-25 07:31:06|    0|pUycOfUwM8vqX7KjR...|  3.0|Had a party of 6 ...|     0|59MxRhNVhU9MYndMk...|\n",
      "|uMvVYRgGNXf5boolA...|   0|2015-06-21 14:48:06|    0|rGQRf8UafX7OTlMNN...|  5.0|My experience wit...|     2|1WHRWwQmZOZDAhp2Q...|\n",
      "|EQ-TZ2eeD_E0BHuvo...|   0|2015-08-19 14:31:45|    0|l3Wk_mvAog6XANIuG...|  4.0|Locals recommende...|     0|ZbqSHbgCjzVAqaa7N...|\n",
      "|lj-E32x9_FA7GmUrB...|   0|2014-06-27 22:44:01|    0|XW_LfMv0fV21l9c6x...|  4.0|Love going here f...|     0|9OAtfnWag-ajVxRbU...|\n",
      "|RZtGWDLCAtuipwaZ-...|   0|2009-10-14 19:57:14|    0|8JFGBuHMoiNDyfcxu...|  4.0|Good food--loved ...|     0|smOvOajNG0lS4Pq7d...|\n",
      "|otQS34_MymijPTdNB...|   0|2011-10-27 17:12:05|    2|UBp0zWyH60Hmw6Fsa...|  4.0|The bun makes the...|     0|4Uh27DgGzsp6PqrH9...|\n",
      "|BVndHaLihEYbr76Z0...|   0|2014-10-11 16:22:06|    0|OAhBYw8IQ6wlfw1ow...|  5.0|Great place for b...|     0|1C2lxzUo1Hyye4RFI...|\n",
      "|YtSqYv1Q_pOltsVPS...|   0|2013-06-24 11:21:25|    0|oyaMhzBSwfGgemSGu...|  5.0|Tremendous servic...|     0|Dd1jQj7S-BFGqRbAp...|\n",
      "|rBdG_23USc7DletfZ...|   0|2014-08-10 19:41:43|    0|LnGZB0fjfgeVDVz5I...|  4.0|The hubby and I h...|     1|j2wlzrntrbKwyOcOi...|\n",
      "|CLEWowfkj-wKYJlQD...|   1|2016-03-07 00:02:18|    0|u2vzZaOqJ2feRshaa...|  5.0|I go to blow bar ...|     2|NDZvyYHTUWWu-kqgQ...|\n",
      "|eFvzHawVJofxSnD7T...|   0|2014-11-12 15:30:27|    0|Xs8Z8lmKkosqW5mw_...|  5.0|My absolute favor...|     0|IQsF3Rc6IgCzjVV9D...|\n",
      "+--------------------+----+-------------------+-----+--------------------+-----+--------------------+------+--------------------+\n",
      "only showing top 20 rows\n",
      "\n"
     ]
    }
   ],
   "source": [
    "review_df.show()"
   ]
  },
  {
   "cell_type": "code",
   "execution_count": 81,
   "id": "ea0ac728",
   "metadata": {},
   "outputs": [
    {
     "name": "stdout",
     "output_type": "stream",
     "text": [
      "root\n",
      " |-- business_id: string (nullable = true)\n",
      " |-- cool: long (nullable = true)\n",
      " |-- date: string (nullable = true)\n",
      " |-- funny: long (nullable = true)\n",
      " |-- review_id: string (nullable = true)\n",
      " |-- stars: double (nullable = true)\n",
      " |-- text: string (nullable = true)\n",
      " |-- useful: long (nullable = true)\n",
      " |-- user_id: string (nullable = true)\n",
      "\n"
     ]
    }
   ],
   "source": [
    "review_df.printSchema()"
   ]
  },
  {
   "cell_type": "code",
   "execution_count": 82,
   "id": "e2f8cc4f",
   "metadata": {},
   "outputs": [
    {
     "data": {
      "text/plain": [
       "['business_id',\n",
       " 'cool',\n",
       " 'date',\n",
       " 'funny',\n",
       " 'review_id',\n",
       " 'stars',\n",
       " 'text',\n",
       " 'useful',\n",
       " 'user_id']"
      ]
     },
     "execution_count": 82,
     "metadata": {},
     "output_type": "execute_result"
    }
   ],
   "source": [
    "review_df.columns"
   ]
  },
  {
   "cell_type": "code",
   "execution_count": 83,
   "id": "7b40a11c",
   "metadata": {},
   "outputs": [
    {
     "data": {
      "text/plain": [
       "[('rows_num', 6990280), ('cols_num', 9)]"
      ]
     },
     "execution_count": 83,
     "metadata": {},
     "output_type": "execute_result"
    }
   ],
   "source": [
    "# Кількість рядків та колонок\n",
    "data = [('rows_num', review_df.count()), ('cols_num', len(review_df.columns))]\n",
    "data"
   ]
  },
  {
   "cell_type": "code",
   "execution_count": 18,
   "id": "819eb23a",
   "metadata": {},
   "outputs": [],
   "source": [
    "# Питання №1: Які оцінки мав кожен з бізнесів у кожен рік свого існування?"
   ]
  },
  {
   "cell_type": "code",
   "execution_count": 19,
   "id": "3eff4b66",
   "metadata": {},
   "outputs": [],
   "source": [
    "business_names = business_df.select('business_id', 'name')"
   ]
  },
  {
   "cell_type": "code",
   "execution_count": 20,
   "id": "3e220eb3",
   "metadata": {},
   "outputs": [],
   "source": [
    "review_df = review_df.withColumn('year', f.year(f.to_timestamp('date', 'yyyy-MM-dd HH:mm:ss')))\n",
    "avg_stars_by_year = (review_df.groupBy('business_id', 'year')\n",
    "                                .agg(f.avg('stars').alias('average_stars')))"
   ]
  },
  {
   "cell_type": "code",
   "execution_count": 21,
   "id": "541eabe6",
   "metadata": {},
   "outputs": [],
   "source": [
    "result_df = avg_stars_by_year.join(business_names, 'business_id', 'inner')"
   ]
  },
  {
   "cell_type": "code",
   "execution_count": 22,
   "id": "83e0c280",
   "metadata": {},
   "outputs": [
    {
     "name": "stdout",
     "output_type": "stream",
     "text": [
      "+--------------------+----+------------------+--------------------+\n",
      "|         business_id|year|     average_stars|                name|\n",
      "+--------------------+----+------------------+--------------------+\n",
      "|nL5Lu2HbjAYClsass...|2018|               3.2|        Grow Academy|\n",
      "|nL5Lu2HbjAYClsass...|2019|               5.0|        Grow Academy|\n",
      "|t7vVRlyF9_lxuL1au...|2015|               5.0| Joe's Throwback ...|\n",
      "|t7vVRlyF9_lxuL1au...|2016|               5.0| Joe's Throwback ...|\n",
      "|t7vVRlyF9_lxuL1au...|2018|               5.0| Joe's Throwback ...|\n",
      "|t7vVRlyF9_lxuL1au...|2019|               4.0| Joe's Throwback ...|\n",
      "|t7vVRlyF9_lxuL1au...|2020|               5.0| Joe's Throwback ...|\n",
      "|t7vVRlyF9_lxuL1au...|2021|               4.5| Joe's Throwback ...|\n",
      "|R1nPs3Lc2eXRW95oY...|2013|               4.0| Leland's Barbershop|\n",
      "|R1nPs3Lc2eXRW95oY...|2014|               5.0| Leland's Barbershop|\n",
      "|R1nPs3Lc2eXRW95oY...|2015|               5.0| Leland's Barbershop|\n",
      "|R1nPs3Lc2eXRW95oY...|2019|               5.0| Leland's Barbershop|\n",
      "|R1nPs3Lc2eXRW95oY...|2020|               5.0| Leland's Barbershop|\n",
      "|R1nPs3Lc2eXRW95oY...|2021|               3.0| Leland's Barbershop|\n",
      "|f9pqgFRKMoN75uqzx...|2014|               5.0| Xtreme Laser Tag...|\n",
      "|f9pqgFRKMoN75uqzx...|2017|               3.0| Xtreme Laser Tag...|\n",
      "|f9pqgFRKMoN75uqzx...|2018|3.3333333333333335| Xtreme Laser Tag...|\n",
      "|f9pqgFRKMoN75uqzx...|2019|               4.6| Xtreme Laser Tag...|\n",
      "|f9pqgFRKMoN75uqzx...|2020|               4.0| Xtreme Laser Tag...|\n",
      "|f9pqgFRKMoN75uqzx...|2021|               1.0| Xtreme Laser Tag...|\n",
      "|ihYl-uK0PYNPeFskc...|2018| 4.526315789473684|\"Genuino\" Italian...|\n",
      "|ihYl-uK0PYNPeFskc...|2019| 4.390243902439025|\"Genuino\" Italian...|\n",
      "|ihYl-uK0PYNPeFskc...|2020|               4.0|\"Genuino\" Italian...|\n",
      "|BWo8s2skxQGZUgVoo...|2009|               5.0|\"No Macarena\" DJ ...|\n",
      "|BWo8s2skxQGZUgVoo...|2010|               5.0|\"No Macarena\" DJ ...|\n",
      "|BWo8s2skxQGZUgVoo...|2011|               5.0|\"No Macarena\" DJ ...|\n",
      "|BWo8s2skxQGZUgVoo...|2012| 4.333333333333333|\"No Macarena\" DJ ...|\n",
      "|BWo8s2skxQGZUgVoo...|2013|               4.0|\"No Macarena\" DJ ...|\n",
      "|BWo8s2skxQGZUgVoo...|2014|               5.0|\"No Macarena\" DJ ...|\n",
      "|BWo8s2skxQGZUgVoo...|2015|               5.0|\"No Macarena\" DJ ...|\n",
      "|BWo8s2skxQGZUgVoo...|2017|               5.0|\"No Macarena\" DJ ...|\n",
      "|BWo8s2skxQGZUgVoo...|2018|               5.0|\"No Macarena\" DJ ...|\n",
      "|BWo8s2skxQGZUgVoo...|2019|               5.0|\"No Macarena\" DJ ...|\n",
      "|tHSjsiuFhWKlp-B0s...|2015|               1.0|      # 1 Nail Salon|\n",
      "|tHSjsiuFhWKlp-B0s...|2016|               1.0|      # 1 Nail Salon|\n",
      "|tHSjsiuFhWKlp-B0s...|2017|               3.5|      # 1 Nail Salon|\n",
      "|tHSjsiuFhWKlp-B0s...|2019|               4.0|      # 1 Nail Salon|\n",
      "|osq8dtEqd98hRDzCQ...|2015|               1.0|         #1 Auto Spa|\n",
      "|osq8dtEqd98hRDzCQ...|2016|               1.0|         #1 Auto Spa|\n",
      "|osq8dtEqd98hRDzCQ...|2017|               1.0|         #1 Auto Spa|\n",
      "|osq8dtEqd98hRDzCQ...|2018|               1.0|         #1 Auto Spa|\n",
      "|oCVcvXmtVJKAH8vpF...|2012| 4.333333333333333|#1 Mongolian BBQ ...|\n",
      "|oCVcvXmtVJKAH8vpF...|2013|               3.5|#1 Mongolian BBQ ...|\n",
      "|oCVcvXmtVJKAH8vpF...|2014|3.3333333333333335|#1 Mongolian BBQ ...|\n",
      "|oCVcvXmtVJKAH8vpF...|2015|               2.8|#1 Mongolian BBQ ...|\n",
      "|oCVcvXmtVJKAH8vpF...|2016|             3.375|#1 Mongolian BBQ ...|\n",
      "|oCVcvXmtVJKAH8vpF...|2017|             2.375|#1 Mongolian BBQ ...|\n",
      "|oCVcvXmtVJKAH8vpF...|2018| 4.416666666666667|#1 Mongolian BBQ ...|\n",
      "|oCVcvXmtVJKAH8vpF...|2019|               4.0|#1 Mongolian BBQ ...|\n",
      "|oCVcvXmtVJKAH8vpF...|2020|               4.0|#1 Mongolian BBQ ...|\n",
      "+--------------------+----+------------------+--------------------+\n",
      "only showing top 50 rows\n",
      "\n"
     ]
    }
   ],
   "source": [
    "result_df.orderBy('name', 'year', ascending=True).show(50)"
   ]
  },
  {
   "cell_type": "code",
   "execution_count": 23,
   "id": "83be6b6f",
   "metadata": {},
   "outputs": [],
   "source": [
    "# Питання №2: На що потрібно зважати найбільше, при створенні ресторану, підходящого для сімей з дітьми?"
   ]
  },
  {
   "cell_type": "code",
   "execution_count": 24,
   "id": "143e97fa",
   "metadata": {},
   "outputs": [
    {
     "name": "stdout",
     "output_type": "stream",
     "text": [
      "+----------------------------------------------------------------------------------------------------------+\n",
      "|categories                                                                                                |\n",
      "+----------------------------------------------------------------------------------------------------------+\n",
      "|Doctors, Traditional Chinese Medicine, Naturopathic/Holistic, Acupuncture, Health & Medical, Nutritionists|\n",
      "|Shipping Centers, Local Services, Notaries, Mailbox Centers, Printing Services                            |\n",
      "|Department Stores, Shopping, Fashion, Home & Garden, Electronics, Furniture Stores                        |\n",
      "|Restaurants, Food, Bubble Tea, Coffee & Tea, Bakeries                                                     |\n",
      "|Brewpubs, Breweries, Food                                                                                 |\n",
      "|Burgers, Fast Food, Sandwiches, Food, Ice Cream & Frozen Yogurt, Restaurants                              |\n",
      "|Sporting Goods, Fashion, Shoe Stores, Shopping, Sports Wear, Accessories                                  |\n",
      "|Synagogues, Religious Organizations                                                                       |\n",
      "|Pubs, Restaurants, Italian, Bars, American (Traditional), Nightlife, Greek                                |\n",
      "|Ice Cream & Frozen Yogurt, Fast Food, Burgers, Restaurants, Food                                          |\n",
      "|Department Stores, Shopping, Fashion                                                                      |\n",
      "|Vietnamese, Food, Restaurants, Food Trucks                                                                |\n",
      "|American (Traditional), Restaurants, Diners, Breakfast & Brunch                                           |\n",
      "|General Dentistry, Dentists, Health & Medical, Cosmetic Dentists                                          |\n",
      "|Food, Delis, Italian, Bakeries, Restaurants                                                               |\n",
      "|Sushi Bars, Restaurants, Japanese                                                                         |\n",
      "|Automotive, Auto Parts & Supplies, Auto Customization                                                     |\n",
      "|Vape Shops, Tobacco Shops, Personal Shopping, Vitamins & Supplements, Shopping                            |\n",
      "|Automotive, Car Rental, Hotels & Travel, Truck Rental                                                     |\n",
      "|Korean, Restaurants                                                                                       |\n",
      "+----------------------------------------------------------------------------------------------------------+\n",
      "only showing top 20 rows\n",
      "\n"
     ]
    }
   ],
   "source": [
    "business_df.select('categories').show(truncate=False)"
   ]
  },
  {
   "cell_type": "code",
   "execution_count": 25,
   "id": "a1600402",
   "metadata": {},
   "outputs": [],
   "source": [
    "good_for_kids_df = business_df.filter(\n",
    "    (f.col('categories').contains('Restaurants')) &\n",
    "    (f.col('attribute_good_for_kids') == 'True') &\n",
    "    (f.col('stars') > 4.0)\n",
    ")\n",
    "\n",
    "good_for_kids_df = good_for_kids_df.withColumn(\"attribute_alcohol\",\n",
    "                                     f.when((f.col(\"attribute_alcohol\").isNull()) |\n",
    "                                            (f.col(\"attribute_alcohol\") == 'none') |\n",
    "                                            (f.col(\"attribute_alcohol\") == u'none'),\n",
    "                                            False).otherwise(True))\n",
    "good_for_kids_df = good_for_kids_df.withColumn(\"attribute_smoking\",\n",
    "                                     f.when((f.col(\"attribute_smoking\").isNull()) |\n",
    "                                            (f.col(\"attribute_smoking\") == 'no') |\n",
    "                                            (f.col(\"attribute_smoking\") == 'outdoor') |\n",
    "                                            (f.col(\"attribute_smoking\") == u'no'),\n",
    "                                            False).otherwise(True))\n",
    "good_for_kids_df = good_for_kids_df.withColumn(\"attribute_wi_fi\",\n",
    "                                     f.when((f.col(\"attribute_wi_fi\").isNull()) |\n",
    "                                            (f.col(\"attribute_wi_fi\") == 'no') |\n",
    "                                            (f.col(\"attribute_wi_fi\") == u'no'),\n",
    "                                            False).otherwise(True))\n",
    "\n",
    "days_of_week = ['monday', 'tuesday', 'wednesday', 'thursday', 'friday', 'saturday', 'sunday']\n",
    "for day in days_of_week:\n",
    "    column_name = f\"hours_{day}\"\n",
    "    good_for_kids_df = good_for_kids_df.withColumn(column_name,\n",
    "                                                   f.when((f.col(column_name).isNull()), False).otherwise(True))"
   ]
  },
  {
   "cell_type": "code",
   "execution_count": 26,
   "id": "5e721f58",
   "metadata": {},
   "outputs": [],
   "source": [
    "# Загальна кількість записів\n",
    "total_rows = good_for_kids_df.count()\n",
    "\n",
    "# Записуємо кількість появ True для кожного з атрибутів\n",
    "agg_df = good_for_kids_df.agg(*[f.sum(f.when(f.col(col) == 'True', 1).otherwise(0)).alias(f\"num_{col}_true\") \n",
    "             for col in business_df.columns if col.startswith(\"attribute_\") or col.startswith(\"hours_\")])\n",
    "agg_df = agg_df.withColumn('total_rows', f.lit(total_rows))"
   ]
  },
  {
   "cell_type": "code",
   "execution_count": 27,
   "id": "06d15d86",
   "metadata": {},
   "outputs": [],
   "source": [
    "for col in business_df.columns:\n",
    "    if col.startswith('attribute_'):\n",
    "        col_name = col.replace('attribute_', '')\n",
    "        agg_df = agg_df.withColumn(f'percent_{col_name}_true', \n",
    "                                   f.when(f.col(f'num_{col}_true') != 0, \n",
    "                                          f.col(f'num_{col}_true') / \n",
    "                                          f.col('total_rows') * 100)\n",
    "                                   .otherwise(-1))\n",
    "    if col.startswith('hours_'):\n",
    "        agg_df = agg_df.withColumn(f'percent_{col}_true', \n",
    "                                   f.when(f.col(f'num_{col}_true') != 0, \n",
    "                                          f.col(f'num_{col}_true') / \n",
    "                                          f.col('total_rows') * 100)\n",
    "                                   .otherwise(-1))"
   ]
  },
  {
   "cell_type": "code",
   "execution_count": 28,
   "id": "e2176665",
   "metadata": {},
   "outputs": [
    {
     "name": "stdout",
     "output_type": "stream",
     "text": [
      "-RECORD 0----------------------------------------------------------\n",
      " percent_accepts_insurance_true             | -1.0                 \n",
      " percent_ages_allowed_true                  | -1.0                 \n",
      " percent_alcohol_true                       | 87.08381171067738    \n",
      " percent_ambience_true                      | -1.0                 \n",
      " percent_byob_true                          | 3.807883658629927    \n",
      " percent_byobcorkage_true                   | -1.0                 \n",
      " percent_best_nights_true                   | -1.0                 \n",
      " percent_bike_parking_true                  | 64.37045541523153    \n",
      " percent_business_accepts_bitcoin_true      | 0.4018369690011481   \n",
      " percent_business_accepts_credit_cards_true | 88.27018752391886    \n",
      " percent_business_parking_true              | -1.0                 \n",
      " percent_by_appointment_only_true           | 0.24875621890547264  \n",
      " percent_caters_true                        | 53.36777650210486    \n",
      " percent_coat_check_true                    | 0.13394565633371602  \n",
      " percent_corkage_true                       | 2.908534251817834    \n",
      " percent_dietary_restrictions_true          | -1.0                 \n",
      " percent_dogs_allowed_true                  | 10.256410256410255   \n",
      " percent_drive_thru_true                    | 1.5116724071947953   \n",
      " percent_good_for_dancing_true              | 0.30616150019135097  \n",
      " percent_good_for_kids_true                 | 100.0                \n",
      " percent_good_for_meal_true                 | -1.0                 \n",
      " percent_hair_specializes_in_true           | -1.0                 \n",
      " percent_happy_hour_true                    | 9.911978568694986    \n",
      " percent_has_tv_true                        | 58.49598163030999    \n",
      " percent_music_true                         | -1.0                 \n",
      " percent_noise_level_true                   | -1.0                 \n",
      " percent_open24hours_true                   | -1.0                 \n",
      " percent_outdoor_seating_true               | 42.95828549559893    \n",
      " percent_restaurants_attire_true            | -1.0                 \n",
      " percent_restaurants_counter_service_true   | 0.019135093761959435 \n",
      " percent_restaurants_delivery_true          | 47.646383467278994   \n",
      " percent_restaurants_good_for_groups_true   | 76.4638346727899     \n",
      " percent_restaurants_price_range2_true      | -1.0                 \n",
      " percent_restaurants_reservations_true      | 24.837351703023344   \n",
      " percent_restaurants_table_service_true     | 31.400688863375432   \n",
      " percent_restaurants_take_out_true          | 93.8193647148871     \n",
      " percent_smoking_true                       | 4.554152315346345    \n",
      " percent_wheelchair_accessible_true         | 37.160352085725215   \n",
      " percent_wi_fi_true                         | 85.15116724071949    \n",
      " percent_hours_friday_true                  | 89.16953693073097    \n",
      " percent_hours_monday_true                  | 72.2158438576349     \n",
      " percent_hours_saturday_true                | 84.44316877152698    \n",
      " percent_hours_sunday_true                  | 60.69651741293532    \n",
      " percent_hours_thursday_true                | 88.212782242633      \n",
      " percent_hours_tuesday_true                 | 79.60199004975125    \n",
      " percent_hours_wednesday_true               | 85.84003061615002    \n",
      "\n"
     ]
    }
   ],
   "source": [
    "agg_df = agg_df.drop(*[col for col in agg_df.columns if col.startswith(\"num_\")])\n",
    "agg_df = agg_df.drop('total_rows')\n",
    "agg_df.show(vertical=True)"
   ]
  },
  {
   "cell_type": "code",
   "execution_count": 29,
   "id": "a5e56be7",
   "metadata": {},
   "outputs": [],
   "source": [
    "# Питання №3: Чи має позитивний вплив byob (дозвіл на власну випивку) на рейтинг закладу?"
   ]
  },
  {
   "cell_type": "code",
   "execution_count": 30,
   "id": "141cacae",
   "metadata": {},
   "outputs": [],
   "source": [
    "byob_business_df = business_df.select('stars', 'attribute_byob')\n",
    "byob_business_df = byob_business_df.dropna(subset=['attribute_byob'])"
   ]
  },
  {
   "cell_type": "code",
   "execution_count": 31,
   "id": "16b6e801",
   "metadata": {},
   "outputs": [
    {
     "name": "stdout",
     "output_type": "stream",
     "text": [
      "+-----+--------------+\n",
      "|stars|attribute_byob|\n",
      "+-----+--------------+\n",
      "|  4.5|         False|\n",
      "|  4.5|         False|\n",
      "|  4.0|         False|\n",
      "|  3.0|          True|\n",
      "|  4.5|         False|\n",
      "|  4.0|         False|\n",
      "|  5.0|         False|\n",
      "|  4.0|         False|\n",
      "|  4.5|          True|\n",
      "|  4.0|         False|\n",
      "|  4.5|          True|\n",
      "|  4.0|         False|\n",
      "|  4.5|          None|\n",
      "|  4.0|         False|\n",
      "|  3.0|          True|\n",
      "|  4.0|         False|\n",
      "|  4.0|         False|\n",
      "|  4.0|         False|\n",
      "|  4.0|         False|\n",
      "|  4.5|         False|\n",
      "+-----+--------------+\n",
      "only showing top 20 rows\n",
      "\n"
     ]
    }
   ],
   "source": [
    "byob_business_df.show()"
   ]
  },
  {
   "cell_type": "code",
   "execution_count": 32,
   "id": "ee842bea",
   "metadata": {},
   "outputs": [],
   "source": [
    "byob_true_df = byob_business_df.filter(f.col('attribute_byob') == True)\n",
    "avg_stars_byob_true = byob_true_df.groupBy('attribute_byob').agg(f.avg('stars').alias('avg_stars_byob'))"
   ]
  },
  {
   "cell_type": "code",
   "execution_count": 33,
   "id": "b907cd81",
   "metadata": {},
   "outputs": [],
   "source": [
    "byob_false_df = byob_business_df.filter(f.col('attribute_byob') == False)\n",
    "avg_stars_byob_false = byob_false_df.groupBy('attribute_byob').agg(f.avg('stars').alias('avg_stars_byob'))"
   ]
  },
  {
   "cell_type": "code",
   "execution_count": 34,
   "id": "87d2c4e6",
   "metadata": {},
   "outputs": [
    {
     "name": "stdout",
     "output_type": "stream",
     "text": [
      "+--------------+----------------+\n",
      "|attribute_byob|  avg_stars_byob|\n",
      "+--------------+----------------+\n",
      "|          True|4.13872255489022|\n",
      "+--------------+----------------+\n",
      "\n"
     ]
    }
   ],
   "source": [
    "avg_stars_byob_true.show()"
   ]
  },
  {
   "cell_type": "code",
   "execution_count": 35,
   "id": "8ce76430",
   "metadata": {},
   "outputs": [
    {
     "name": "stdout",
     "output_type": "stream",
     "text": [
      "+--------------+------------------+\n",
      "|attribute_byob|    avg_stars_byob|\n",
      "+--------------+------------------+\n",
      "|         False|3.9928716904276986|\n",
      "+--------------+------------------+\n",
      "\n"
     ]
    }
   ],
   "source": [
    "avg_stars_byob_false.show()"
   ]
  },
  {
   "cell_type": "code",
   "execution_count": 36,
   "id": "f063e380",
   "metadata": {},
   "outputs": [],
   "source": [
    "result_df = avg_stars_byob_true.union(avg_stars_byob_false)"
   ]
  },
  {
   "cell_type": "code",
   "execution_count": 37,
   "id": "3b57b5ff",
   "metadata": {},
   "outputs": [
    {
     "name": "stdout",
     "output_type": "stream",
     "text": [
      "+--------------+------------------+\n",
      "|attribute_byob|    avg_stars_byob|\n",
      "+--------------+------------------+\n",
      "|          True|  4.13872255489022|\n",
      "|         False|3.9928716904276986|\n",
      "+--------------+------------------+\n",
      "\n"
     ]
    }
   ],
   "source": [
    "result_df.show()"
   ]
  },
  {
   "cell_type": "code",
   "execution_count": 38,
   "id": "08cab249",
   "metadata": {},
   "outputs": [],
   "source": [
    "# Питання №4: Які категорії бізнесів мають найбільше відгуків?"
   ]
  },
  {
   "cell_type": "code",
   "execution_count": 39,
   "id": "0989b19a",
   "metadata": {},
   "outputs": [
    {
     "name": "stdout",
     "output_type": "stream",
     "text": [
      "+--------------------+-------+\n",
      "|          categories|reviews|\n",
      "+--------------------+-------+\n",
      "|Mexican, Restaurants|  53043|\n",
      "|Restaurants, Mexican|  52996|\n",
      "|  Restaurants, Pizza|  32746|\n",
      "|  Pizza, Restaurants|  28477|\n",
      "|Beauty & Spas, Na...|  27484|\n",
      "|Restaurants, Italian|  26320|\n",
      "|Italian, Restaurants|  25388|\n",
      "|Restaurants, Chinese|  23985|\n",
      "|Nail Salons, Beau...|  23100|\n",
      "|Chinese, Restaurants|  22071|\n",
      "|American (New), R...|  18647|\n",
      "|  Food, Coffee & Tea|  17507|\n",
      "|  Coffee & Tea, Food|  17194|\n",
      "|Restaurants, Amer...|  16918|\n",
      "|   Thai, Restaurants|  16490|\n",
      "|Seafood, Restaurants|  13356|\n",
      "|   Restaurants, Thai|  12978|\n",
      "|Hotels, Event Pla...|  12788|\n",
      "|Event Planning & ...|  12644|\n",
      "|Restaurants, Seafood|  10844|\n",
      "+--------------------+-------+\n",
      "only showing top 20 rows\n",
      "\n"
     ]
    }
   ],
   "source": [
    "window = Window.partitionBy('categories')\n",
    "\n",
    "(business_df\n",
    " .filter(f.col('categories').isNotNull()).withColumn('reviews', f.sum(f.col('review_count')).over(window))\n",
    " .select('categories', 'reviews')\n",
    " .distinct()\n",
    " .orderBy('reviews', ascending=False)\n",
    " .show())"
   ]
  },
  {
   "cell_type": "code",
   "execution_count": 40,
   "id": "80c274cd",
   "metadata": {},
   "outputs": [],
   "source": [
    "# Питання №5: Який вплив має дозвіл на вхід з собаками на оцінку закладу?"
   ]
  },
  {
   "cell_type": "code",
   "execution_count": 41,
   "id": "e919ddab",
   "metadata": {},
   "outputs": [
    {
     "name": "stdout",
     "output_type": "stream",
     "text": [
      "+----------------------+-----------------+\n",
      "|attribute_dogs_allowed|        avg_stars|\n",
      "+----------------------+-----------------+\n",
      "|                  true|4.086255609107528|\n",
      "|                 false|3.576315224244608|\n",
      "+----------------------+-----------------+\n",
      "\n"
     ]
    }
   ],
   "source": [
    "window = Window.partitionBy('attribute_dogs_allowed')\n",
    "\n",
    "dogs_df = business_df.withColumn('attribute_dogs_allowed',\n",
    "                                     f.when((f.col('attribute_dogs_allowed').isNull()) |\n",
    "                                            (f.col('attribute_dogs_allowed') == False) |\n",
    "                                            (f.col('attribute_dogs_allowed') == None),\n",
    "                                            False).otherwise(True))\n",
    "(dogs_df.filter(f.col('attribute_dogs_allowed')\n",
    "                .isNotNull()).withColumn('avg_stars', \n",
    "                                         f.sum(f.col('stars')).over(window) / f.count(f.col('stars')).over(window))\n",
    " .select('attribute_dogs_allowed', 'avg_stars')\n",
    " .distinct()\n",
    " .orderBy('avg_stars', ascending=False)\n",
    " .show())"
   ]
  },
  {
   "cell_type": "code",
   "execution_count": 42,
   "id": "a13063c5",
   "metadata": {},
   "outputs": [],
   "source": [
    "# Питання №6: Який відсоток бізнесів має можливість оплати криптовалютою?"
   ]
  },
  {
   "cell_type": "code",
   "execution_count": 67,
   "id": "15f21034",
   "metadata": {},
   "outputs": [],
   "source": [
    "accepts_btc_num = business_df.filter(btc_business_df['attribute_business_accepts_bitcoin'] == True).count()\n",
    "total_rows_num = business_df.count()"
   ]
  },
  {
   "cell_type": "code",
   "execution_count": 73,
   "id": "781f8cff",
   "metadata": {},
   "outputs": [],
   "source": [
    "data = [(accepts_btc_num * 100 / total_rows_num,)]\n",
    "schema = t.StructType([\n",
    "    t.StructField('accepts_btc_percent', t.FloatType(), False)])\n",
    "accepts_btc_df = spark.createDataFrame(data, schema)"
   ]
  },
  {
   "cell_type": "code",
   "execution_count": 74,
   "id": "506b980f",
   "metadata": {},
   "outputs": [
    {
     "name": "stdout",
     "output_type": "stream",
     "text": [
      "+-------------------+\n",
      "|accepts_btc_percent|\n",
      "+-------------------+\n",
      "|         0.31261224|\n",
      "+-------------------+\n",
      "\n"
     ]
    }
   ],
   "source": [
    "accepts_btc_df.show()"
   ]
  },
  {
   "cell_type": "code",
   "execution_count": null,
   "id": "85d3427c",
   "metadata": {},
   "outputs": [],
   "source": []
  }
 ],
 "metadata": {
  "kernelspec": {
   "display_name": "Python 3 (ipykernel)",
   "language": "python",
   "name": "python3"
  },
  "language_info": {
   "codemirror_mode": {
    "name": "ipython",
    "version": 3
   },
   "file_extension": ".py",
   "mimetype": "text/x-python",
   "name": "python",
   "nbconvert_exporter": "python",
   "pygments_lexer": "ipython3",
   "version": "3.8.17"
  }
 },
 "nbformat": 4,
 "nbformat_minor": 5
}
